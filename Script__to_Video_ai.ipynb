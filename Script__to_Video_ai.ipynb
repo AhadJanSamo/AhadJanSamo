{
  "nbformat": 4,
  "nbformat_minor": 0,
  "metadata": {
    "colab": {
      "provenance": [],
      "authorship_tag": "ABX9TyPN8giSTAs2c5UfeHTuBnwJ",
      "include_colab_link": true
    },
    "kernelspec": {
      "name": "python3",
      "display_name": "Python 3"
    },
    "language_info": {
      "name": "python"
    }
  },
  "cells": [
    {
      "cell_type": "markdown",
      "metadata": {
        "id": "view-in-github",
        "colab_type": "text"
      },
      "source": [
        "<a href=\"https://colab.research.google.com/github/AhadJanSamo/AhadJanSamo/blob/main/Script__to_Video_ai.ipynb\" target=\"_parent\"><img src=\"https://colab.research.google.com/assets/colab-badge.svg\" alt=\"Open In Colab\"/></a>"
      ]
    },
    {
      "cell_type": "code",
      "execution_count": null,
      "metadata": {
        "colab": {
          "base_uri": "https://localhost:8080/"
        },
        "id": "MnftXXvfI6dk",
        "outputId": "fde2f9fa-cf01-45ca-cb2e-8d26de3729ed"
      },
      "outputs": [
        {
          "output_type": "stream",
          "name": "stdout",
          "text": [
            "Requirement already satisfied: gtts in /usr/local/lib/python3.10/dist-packages (2.5.1)\n",
            "Requirement already satisfied: requests<3,>=2.27 in /usr/local/lib/python3.10/dist-packages (from gtts) (2.31.0)\n",
            "Requirement already satisfied: click<8.2,>=7.1 in /usr/local/lib/python3.10/dist-packages (from gtts) (8.1.7)\n",
            "Requirement already satisfied: charset-normalizer<4,>=2 in /usr/local/lib/python3.10/dist-packages (from requests<3,>=2.27->gtts) (3.3.2)\n",
            "Requirement already satisfied: idna<4,>=2.5 in /usr/local/lib/python3.10/dist-packages (from requests<3,>=2.27->gtts) (3.7)\n",
            "Requirement already satisfied: urllib3<3,>=1.21.1 in /usr/local/lib/python3.10/dist-packages (from requests<3,>=2.27->gtts) (2.0.7)\n",
            "Requirement already satisfied: certifi>=2017.4.17 in /usr/local/lib/python3.10/dist-packages (from requests<3,>=2.27->gtts) (2024.2.2)\n",
            "Requirement already satisfied: pillow in /usr/local/lib/python3.10/dist-packages (9.4.0)\n",
            "Requirement already satisfied: moviepy in /usr/local/lib/python3.10/dist-packages (1.0.3)\n",
            "Requirement already satisfied: decorator<5.0,>=4.0.2 in /usr/local/lib/python3.10/dist-packages (from moviepy) (4.4.2)\n",
            "Requirement already satisfied: tqdm<5.0,>=4.11.2 in /usr/local/lib/python3.10/dist-packages (from moviepy) (4.66.4)\n",
            "Requirement already satisfied: requests<3.0,>=2.8.1 in /usr/local/lib/python3.10/dist-packages (from moviepy) (2.31.0)\n",
            "Requirement already satisfied: proglog<=1.0.0 in /usr/local/lib/python3.10/dist-packages (from moviepy) (0.1.10)\n",
            "Requirement already satisfied: numpy>=1.17.3 in /usr/local/lib/python3.10/dist-packages (from moviepy) (1.25.2)\n",
            "Requirement already satisfied: imageio<3.0,>=2.5 in /usr/local/lib/python3.10/dist-packages (from moviepy) (2.31.6)\n",
            "Requirement already satisfied: imageio-ffmpeg>=0.2.0 in /usr/local/lib/python3.10/dist-packages (from moviepy) (0.4.9)\n",
            "Requirement already satisfied: pillow<10.1.0,>=8.3.2 in /usr/local/lib/python3.10/dist-packages (from imageio<3.0,>=2.5->moviepy) (9.4.0)\n",
            "Requirement already satisfied: setuptools in /usr/local/lib/python3.10/dist-packages (from imageio-ffmpeg>=0.2.0->moviepy) (67.7.2)\n",
            "Requirement already satisfied: charset-normalizer<4,>=2 in /usr/local/lib/python3.10/dist-packages (from requests<3.0,>=2.8.1->moviepy) (3.3.2)\n",
            "Requirement already satisfied: idna<4,>=2.5 in /usr/local/lib/python3.10/dist-packages (from requests<3.0,>=2.8.1->moviepy) (3.7)\n",
            "Requirement already satisfied: urllib3<3,>=1.21.1 in /usr/local/lib/python3.10/dist-packages (from requests<3.0,>=2.8.1->moviepy) (2.0.7)\n",
            "Requirement already satisfied: certifi>=2017.4.17 in /usr/local/lib/python3.10/dist-packages (from requests<3.0,>=2.8.1->moviepy) (2024.2.2)\n"
          ]
        }
      ],
      "source": [
        "\n",
        "!pip install gtts\n",
        "!pip install pillow\n",
        "!pip install moviepy"
      ]
    },
    {
      "cell_type": "code",
      "source": [
        "\n",
        "from gtts import gTTS\n",
        "from PIL import Image, ImageDraw, ImageFont\n",
        "from moviepy.editor import ImageSequenceClip, AudioFileClip, concatenate_videoclips\n",
        "import os"
      ],
      "metadata": {
        "id": "o54KVXFFJMAs"
      },
      "execution_count": null,
      "outputs": []
    },
    {
      "cell_type": "code",
      "source": [
        "\n",
        "def text_to_speech(text, filename):\n",
        "    tts = gTTS(text=text, lang='en')\n",
        "    tts.save(filename)\n",
        "\n",
        "def text_to_image(text, filename, width=1280, height=720):\n",
        "    image = Image.new('RGB', (width, height), color = (73, 109, 137))\n",
        "    draw = ImageDraw.Draw(image)\n",
        "    font = ImageFont.load_default()\n",
        "    text_width, text_height = draw.textsize(text, font=font)\n",
        "    position = ((width-text_width)/2, (height-text_height)/2)\n",
        "    draw.text(position, text, fill=(255,255,255), font=font)\n",
        "    image.save(filename)"
      ],
      "metadata": {
        "id": "coBVISumJUTn"
      },
      "execution_count": null,
      "outputs": []
    },
    {
      "cell_type": "code",
      "source": [
        "\n",
        "script = \"\"\"\n",
        "This is the first line of the script.\n",
        "This is the second line of the script.\n",
        "This is the third line of the script.\n",
        "\"\"\"\n",
        "lines = script.strip().split('\\n')"
      ],
      "metadata": {
        "id": "laWqMr_tJWgX"
      },
      "execution_count": null,
      "outputs": []
    },
    {
      "cell_type": "code",
      "source": [
        "\n",
        "audio_files = []\n",
        "image_files = []\n",
        "for i, line in enumerate(lines):\n",
        "    audio_filename = f\"audio_{i}.mp3\"\n",
        "    image_filename = f\"image_{i}.png\"\n",
        "    text_to_speech(line, audio_filename)\n",
        "    text_to_image(line, image_filename)\n",
        "    audio_files.append(audio_filename)\n",
        "    image_files.append(image_filename)"
      ],
      "metadata": {
        "colab": {
          "base_uri": "https://localhost:8080/"
        },
        "id": "q49VbT1wJhB1",
        "outputId": "898c88b3-f70e-4129-e53b-9177f469d825"
      },
      "execution_count": null,
      "outputs": [
        {
          "output_type": "stream",
          "name": "stderr",
          "text": [
            "WARNING:py.warnings:<ipython-input-12-c00e26bc2b06>:9: DeprecationWarning: textsize is deprecated and will be removed in Pillow 10 (2023-07-01). Use textbbox or textlength instead.\n",
            "  text_width, text_height = draw.textsize(text, font=font)\n",
            "\n",
            "WARNING:py.warnings:<ipython-input-12-c00e26bc2b06>:9: DeprecationWarning: textsize is deprecated and will be removed in Pillow 10 (2023-07-01). Use textbbox or textlength instead.\n",
            "  text_width, text_height = draw.textsize(text, font=font)\n",
            "\n",
            "WARNING:py.warnings:<ipython-input-12-c00e26bc2b06>:9: DeprecationWarning: textsize is deprecated and will be removed in Pillow 10 (2023-07-01). Use textbbox or textlength instead.\n",
            "  text_width, text_height = draw.textsize(text, font=font)\n",
            "\n"
          ]
        }
      ]
    },
    {
      "cell_type": "code",
      "source": [
        "# List the generated files to ensure they exist\n",
        "!ls audio_*.mp3\n",
        "!ls image_*.png"
      ],
      "metadata": {
        "colab": {
          "base_uri": "https://localhost:8080/"
        },
        "id": "SoWSCVzvJrVe",
        "outputId": "7ab17804-0421-4b6d-9d3f-82ab265768a7"
      },
      "execution_count": null,
      "outputs": [
        {
          "output_type": "stream",
          "name": "stdout",
          "text": [
            "audio_0.mp3  audio_1.mp3  audio_2.mp3\n",
            "image_0.png  image_1.png  image_2.png\n"
          ]
        }
      ]
    },
    {
      "cell_type": "code",
      "source": [
        "\n",
        "def create_video(image_files, audio_files, output_filename):\n",
        "    clips = []\n",
        "    for image_file, audio_file in zip(image_files, audio_files):\n",
        "        audio_clip = AudioFileClip(audio_file)\n",
        "        image_clip = ImageSequenceClip([image_file], durations=[audio_clip.duration])\n",
        "        image_clip = image_clip.set_audio(audio_clip)\n",
        "        clips.append(image_clip)\n",
        "    final_clip = concatenate_videoclips(clips)\n",
        "    final_clip.write_videofile(output_filename, fps=24)\n",
        "\n",
        "create_video(image_files, audio_files, \"output_video.mp4\")"
      ],
      "metadata": {
        "colab": {
          "base_uri": "https://localhost:8080/"
        },
        "id": "n32f7N16J0SV",
        "outputId": "a3a25f36-69a5-46f1-a105-3f7d411648f1"
      },
      "execution_count": null,
      "outputs": [
        {
          "output_type": "stream",
          "name": "stdout",
          "text": [
            "Moviepy - Building video output_video.mp4.\n",
            "MoviePy - Writing audio in output_videoTEMP_MPY_wvf_snd.mp3\n"
          ]
        },
        {
          "output_type": "stream",
          "name": "stderr",
          "text": []
        },
        {
          "output_type": "stream",
          "name": "stdout",
          "text": [
            "MoviePy - Done.\n",
            "Moviepy - Writing video output_video.mp4\n",
            "\n"
          ]
        },
        {
          "output_type": "stream",
          "name": "stderr",
          "text": []
        },
        {
          "output_type": "stream",
          "name": "stdout",
          "text": [
            "Moviepy - Done !\n",
            "Moviepy - video ready output_video.mp4\n"
          ]
        }
      ]
    },
    {
      "cell_type": "code",
      "source": [
        "\n",
        "for file in audio_files + image_files:\n",
        "    os.remove(file)"
      ],
      "metadata": {
        "id": "KYvN5LSYJ8SE"
      },
      "execution_count": null,
      "outputs": []
    },
    {
      "cell_type": "code",
      "source": [],
      "metadata": {
        "id": "XgYdPqcdLfd5"
      },
      "execution_count": null,
      "outputs": []
    }
  ]
}